{
 "cells": [
  {
   "cell_type": "code",
   "execution_count": 61,
   "metadata": {},
   "outputs": [],
   "source": [
    "import numpy as np\n",
    "from PIL import Image\n",
    "from IPython import display"
   ]
  },
  {
   "cell_type": "code",
   "execution_count": 62,
   "metadata": {},
   "outputs": [],
   "source": [
    "def IsInSet(c):\n",
    "\tz = 0\n",
    "\tfor n in range(0, 10):\n",
    "\t\tzn = np.power(z, 2, dtype = complex) + c\n",
    "\t\tz = zn\n",
    "\tif abs(z > 2):\n",
    "\t\treturn False\n",
    "\treturn True"
   ]
  },
  {
   "cell_type": "code",
   "execution_count": 63,
   "metadata": {},
   "outputs": [],
   "source": [
    "# print(IsInSet(-0.5))\n",
    "iwidth = 500\n",
    "iheight = 500\n",
    "step = 4 / iwidth\n",
    "img = Image.new(mode = \"RGB\", size = (iwidth, iheight))"
   ]
  },
  {
   "cell_type": "code",
   "execution_count": 64,
   "metadata": {},
   "outputs": [
    {
     "ename": "NameError",
     "evalue": "name 'image' is not defined",
     "output_type": "error",
     "traceback": [
      "\u001b[1;31m---------------------------------------------------------------------------\u001b[0m",
      "\u001b[1;31mNameError\u001b[0m                                 Traceback (most recent call last)",
      "\u001b[1;32md:\\projects\\TurdTuesday\\mandelbrot\\mandelbrot.ipynb Cell 4'\u001b[0m in \u001b[0;36m<cell line: 9>\u001b[1;34m()\u001b[0m\n\u001b[0;32m      <a href='vscode-notebook-cell:/d%3A/projects/TurdTuesday/mandelbrot/mandelbrot.ipynb#ch0000008?line=5'>6</a>\u001b[0m \t\t\u001b[39melse\u001b[39;00m:\n\u001b[0;32m      <a href='vscode-notebook-cell:/d%3A/projects/TurdTuesday/mandelbrot/mandelbrot.ipynb#ch0000008?line=6'>7</a>\u001b[0m \t\t\tpixels[x, y] \u001b[39m=\u001b[39m (\u001b[39m255\u001b[39m, \u001b[39m255\u001b[39m, \u001b[39m255\u001b[39m)\n\u001b[1;32m----> <a href='vscode-notebook-cell:/d%3A/projects/TurdTuesday/mandelbrot/mandelbrot.ipynb#ch0000008?line=8'>9</a>\u001b[0m display(image)\n",
      "\u001b[1;31mNameError\u001b[0m: name 'image' is not defined"
     ]
    }
   ],
   "source": [
    "pixels = img.load()\n",
    "for y in range(0, iheight):\n",
    "\tfor x in range(0, iwidth):\n",
    "\t\tif IsInSet(complex((x * step) - 2, (y * step) - 2)):\n",
    "\t\t\tpixels[x, y] = (0, 0, 0)\n",
    "\t\telse:\n",
    "\t\t\tpixels[x, y] = (255, 255, 255)\n",
    "\n",
    "display(image)"
   ]
  }
 ],
 "metadata": {
  "interpreter": {
   "hash": "a78edd7dc7da2058e943fb3a179792e825936bc326dfa3aae71b0bc65adc3579"
  },
  "kernelspec": {
   "display_name": "Python 3.10.4 64-bit",
   "language": "python",
   "name": "python3"
  },
  "language_info": {
   "codemirror_mode": {
    "name": "ipython",
    "version": 3
   },
   "file_extension": ".py",
   "mimetype": "text/x-python",
   "name": "python",
   "nbconvert_exporter": "python",
   "pygments_lexer": "ipython3",
   "version": "3.10.4"
  },
  "orig_nbformat": 4
 },
 "nbformat": 4,
 "nbformat_minor": 2
}
